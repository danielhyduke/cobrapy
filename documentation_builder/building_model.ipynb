{
 "metadata": {
  "name": "",
  "signature": "sha256:e4c839935bc077fef105bd09af17e9df5996674528ffafbc16a6a0554c0ea820"
 },
 "nbformat": 3,
 "nbformat_minor": 0,
 "worksheets": [
  {
   "cells": [
    {
     "cell_type": "heading",
     "level": 1,
     "metadata": {},
     "source": [
      "Building a Model"
     ]
    },
    {
     "cell_type": "markdown",
     "metadata": {},
     "source": [
      "This simple example (available as an IPython [notebook](http://nbviewer.ipython.org/github/opencobra/cobrapy/blob/master/documentation_builder/building_model.ipynb)) demonstrates how to create a model, create a reaction, and then add the reaction to the model.\n",
      "\n",
      "We'll use the '3OAS140' reaction from the STM_1.0 model:\n",
      "\n",
      "1.0 malACP[c] + 1.0 h[c] + 1.0 ddcaACP[c] $\\rightarrow$ 1.0 co2[c] + 1.0 ACP[c] + 1.0 3omrsACP[c]"
     ]
    },
    {
     "cell_type": "markdown",
     "metadata": {},
     "source": [
      "First, create the model and reaction."
     ]
    },
    {
     "cell_type": "code",
     "collapsed": false,
     "input": [
      "from cobra import Model, Reaction, Metabolite\n",
      "# Best practise: SBML compliant IDs\n",
      "cobra_model = Model('example_cobra_model')\n",
      "\n",
      "reaction = Reaction('3OAS140')\n",
      "reaction.name = '3 oxoacyl acyl carrier protein synthase n C140 '\n",
      "reaction.subsystem = 'Cell Envelope Biosynthesis'\n",
      "reaction.lower_bound = 0.  # This is the default\n",
      "reaction.upper_bound = 1000.  # This is the default\n",
      "reaction.objective_coefficient = 0. # this is the default\n"
     ],
     "language": "python",
     "metadata": {},
     "outputs": [],
     "prompt_number": 1
    },
    {
     "cell_type": "markdown",
     "metadata": {},
     "source": [
      "We need to create metabolites as well. If we were using an existing model, we could use get_by_id to get the apporpriate Metabolite objects instead."
     ]
    },
    {
     "cell_type": "code",
     "collapsed": false,
     "input": [
      "ACP_c = Metabolite('ACP_c', formula='C11H21N2O7PRS',\n",
      "    name='acyl-carrier-protein', compartment='c')\n",
      "omrsACP_c = Metabolite('3omrsACP_c', formula='C25H45N2O9PRS',\n",
      "    name='3-Oxotetradecanoyl-acyl-carrier-protein', compartment='c')\n",
      "co2_c = Metabolite('co2_c', formula='CO2', name='CO2', compartment='c')\n",
      "malACP_c = Metabolite('malACP_c', formula='C14H22N2O10PRS',\n",
      "    name='Malonyl-acyl-carrier-protein', compartment='c')\n",
      "h_c = Metabolite('h_c', formula='H', name='H', compartment='c')\n",
      "ddcaACP_c = Metabolite('ddcaACP_c', formula='C23H43N2O8PRS',\n",
      "    name='Dodecanoyl-ACP-n-C120ACP', compartment='c')\n"
     ],
     "language": "python",
     "metadata": {},
     "outputs": [],
     "prompt_number": 2
    },
    {
     "cell_type": "markdown",
     "metadata": {},
     "source": [
      "Adding metabolites to a reaction requires using a dictionary of the metabolites and their stoichiometric coefficients. A group of metabolites can be added all at once, or they can be added one at a time."
     ]
    },
    {
     "cell_type": "code",
     "collapsed": false,
     "input": [
      "reaction.add_metabolites({malACP_c: -1.0,\n",
      "                          h_c: -1.0,\n",
      "                          ddcaACP_c: -1.0,\n",
      "                          co2_c: 1.0,\n",
      "                          ACP_c: 1.0,\n",
      "                          omrsACP_c: 1.0})\n",
      "\n",
      "\n",
      "reaction.reaction  # This gives a string representation of the reaction"
     ],
     "language": "python",
     "metadata": {},
     "outputs": [
      {
       "metadata": {},
       "output_type": "pyout",
       "prompt_number": 3,
       "text": [
        "'malACP_c + h_c + ddcaACP_c --> co2_c + 3omrsACP_c + ACP_c'"
       ]
      }
     ],
     "prompt_number": 3
    },
    {
     "cell_type": "markdown",
     "metadata": {},
     "source": [
      "The gene_reaction_rule is a boolean representation of the gene requirements for this reaction to be active as described in [Schellenberger et al 2011 Nature Protocols 6(9):1290-307](http://dx.doi.org/doi:10.1038/nprot.2011.308). We will assign the gene reaction rule string, which will automatically create the corresponding gene objects."
     ]
    },
    {
     "cell_type": "code",
     "collapsed": false,
     "input": [
      "reaction.gene_reaction_rule = '( STM2378  or STM1197 )'\n",
      "reaction.genes"
     ],
     "language": "python",
     "metadata": {},
     "outputs": [
      {
       "metadata": {},
       "output_type": "pyout",
       "prompt_number": 4,
       "text": [
        "frozenset({<Gene STM2378 at 0x3739b10>, <Gene STM1197 at 0x3739b50>})"
       ]
      }
     ],
     "prompt_number": 4
    },
    {
     "cell_type": "markdown",
     "metadata": {},
     "source": [
      "At this point in time, the model is still empty"
     ]
    },
    {
     "cell_type": "code",
     "collapsed": false,
     "input": [
      "print('%i reactions in initial model' % len(cobra_model.reactions))\n",
      "print('%i metabolites in initial model' % len(cobra_model.metabolites))\n",
      "print('%i genes in initial model' % len(cobra_model.genes))"
     ],
     "language": "python",
     "metadata": {},
     "outputs": [
      {
       "output_type": "stream",
       "stream": "stdout",
       "text": [
        "0 reactions in initial model\n",
        "0 metabolites in initial model\n",
        "0 genes in initial model\n"
       ]
      }
     ],
     "prompt_number": 5
    },
    {
     "cell_type": "markdown",
     "metadata": {},
     "source": [
      "We will add the reaction to the model, which will also add all associated metabolites and genes"
     ]
    },
    {
     "cell_type": "code",
     "collapsed": false,
     "input": [
      "cobra_model.add_reaction(reaction)\n",
      "\n",
      "# Now there are things in the model\n",
      "print('%i reaction in model' % len(cobra_model.reactions))\n",
      "print('%i metabolites in model' % len(cobra_model.metabolites))\n",
      "print('%i genes in model' % len(cobra_model.genes))"
     ],
     "language": "python",
     "metadata": {},
     "outputs": [
      {
       "output_type": "stream",
       "stream": "stdout",
       "text": [
        "1 reaction in model\n",
        "6 metabolites in model\n",
        "2 genes in model\n"
       ]
      }
     ],
     "prompt_number": 6
    },
    {
     "cell_type": "markdown",
     "metadata": {},
     "source": [
      "We can iterate through the model objects to observe the contents"
     ]
    },
    {
     "cell_type": "code",
     "collapsed": false,
     "input": [
      "# Iterate through the the objects in the model\n",
      "print(\"Reactions\")\n",
      "print(\"---------\")\n",
      "for x in cobra_model.reactions:\n",
      "    print(\"%s : %s\" % (repr(x), x.reaction))\n",
      "print(\"Metabolites\")\n",
      "print(\"-----------\")\n",
      "for x in cobra_model.metabolites:\n",
      "    print('%s : %s' % (repr(x), x.formula))\n",
      "print(\"Genes\")\n",
      "print(\"-----\")\n",
      "for x in cobra_model.genes:\n",
      "    reactions_list_str = \", \".join((repr(i) for i in x.reactions))\n",
      "    print(\"%s is associated with reactions: %s\" % (repr(x), reactions_list_str))"
     ],
     "language": "python",
     "metadata": {},
     "outputs": [
      {
       "output_type": "stream",
       "stream": "stdout",
       "text": [
        "Reactions\n",
        "---------\n",
        "<Reaction 3OAS140 at 0x4a18b90> : malACP_c + h_c + ddcaACP_c --> co2_c + 3omrsACP_c + ACP_c\n",
        "Metabolites\n",
        "-----------\n",
        "<Metabolite co2_c at 0x594ba10> : CO2\n",
        "<Metabolite malACP_c at 0x594ba90> : C14H22N2O10PRS\n",
        "<Metabolite h_c at 0x594bb10> : H\n",
        "<Metabolite 3omrsACP_c at 0x594b950> : C25H45N2O9PRS\n",
        "<Metabolite ACP_c at 0x594b990> : C11H21N2O7PRS\n",
        "<Metabolite ddcaACP_c at 0x594bb90> : C23H43N2O8PRS\n",
        "Genes\n",
        "-----\n",
        "<Gene STM2378 at 0x3739b10> is associated with reactions: <Reaction 3OAS140 at 0x4a18b90>\n",
        "<Gene STM1197 at 0x3739b50> is associated with reactions: <Reaction 3OAS140 at 0x4a18b90>\n"
       ]
      }
     ],
     "prompt_number": 7
    }
   ],
   "metadata": {}
  }
 ]
}