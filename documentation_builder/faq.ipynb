{
 "metadata": {
  "name": "",
  "signature": "sha256:837460e5063e8c2f7a9f4358382d27b143077d4fa7db2576eddf5011d76457d7"
 },
 "nbformat": 3,
 "nbformat_minor": 0,
 "worksheets": [
  {
   "cells": [
    {
     "cell_type": "heading",
     "level": 1,
     "metadata": {},
     "source": [
      "FAQ"
     ]
    },
    {
     "cell_type": "markdown",
     "metadata": {},
     "source": [
      "This document will address frequently asked questions not addressed in other pages of the documentation."
     ]
    },
    {
     "cell_type": "heading",
     "level": 3,
     "metadata": {},
     "source": [
      "How do I install cobrapy?"
     ]
    },
    {
     "cell_type": "markdown",
     "metadata": {},
     "source": [
      "Please see the [INSTALL.md](https://github.com/opencobra/cobrapy/blob/master/INSTALL.md) file."
     ]
    },
    {
     "cell_type": "heading",
     "level": 3,
     "metadata": {},
     "source": [
      "How do I rename reactions or metabolites?"
     ]
    },
    {
     "cell_type": "markdown",
     "metadata": {},
     "source": [
      "TL;DR Use Model.repair afterwards\n",
      "\n",
      "When renaming metabolites or reactions, there are issues because cobra indexes based off of ID's, which can cause errors. For example:"
     ]
    },
    {
     "cell_type": "code",
     "collapsed": false,
     "input": [
      "from __future__ import print_function\n",
      "import cobra.test\n",
      "model = cobra.test.create_test_model()\n",
      "\n",
      "for metabolite in model.metabolites:\n",
      "    metabolite.id = \"test_\" + metabolite.id\n",
      "\n",
      "try:\n",
      "    model.metabolites.get_by_id(model.metabolites[0].id)\n",
      "except KeyError as e:\n",
      "    print(\"KeyError:\", e)"
     ],
     "language": "python",
     "metadata": {},
     "outputs": [
      {
       "output_type": "stream",
       "stream": "stdout",
       "text": [
        "KeyError: 'test_dcaACP_c'\n"
       ]
      }
     ],
     "prompt_number": 1
    },
    {
     "cell_type": "markdown",
     "metadata": {},
     "source": [
      "The Model.repair function will rebuild the necessary indexes"
     ]
    },
    {
     "cell_type": "code",
     "collapsed": false,
     "input": [
      "model.repair()\n",
      "model.metabolites.get_by_id(model.metabolites[0].id)"
     ],
     "language": "python",
     "metadata": {},
     "outputs": [
      {
       "metadata": {},
       "output_type": "pyout",
       "prompt_number": 2,
       "text": [
        "<Metabolite test_dcaACP_c at 0x5f68ed0>"
       ]
      }
     ],
     "prompt_number": 2
    },
    {
     "cell_type": "heading",
     "level": 3,
     "metadata": {},
     "source": [
      "How do I delete a gene?"
     ]
    },
    {
     "cell_type": "markdown",
     "metadata": {},
     "source": [
      "That depends on what precisely you mean by delete a gene.\n",
      "\n",
      "If you want to simulate the model with a gene knockout, use the cobra.maniupulation.delete_model_genes function. The effects of this function are reversed by cobra.manipulation.undelete_model_genes."
     ]
    },
    {
     "cell_type": "code",
     "collapsed": false,
     "input": [
      "model = cobra.test.create_test_model()\n",
      "PGI = model.reactions.get_by_id(\"PGI\")\n",
      "print(\"bounds before knockout:\", (PGI.lower_bound, PGI.upper_bound))\n",
      "cobra.manipulation.delete_model_genes(model, [\"STM4221\"])\n",
      "print(\"bounds after knockouts\", (PGI.lower_bound, PGI.upper_bound))"
     ],
     "language": "python",
     "metadata": {},
     "outputs": [
      {
       "output_type": "stream",
       "stream": "stdout",
       "text": [
        "bounds before knockout: (-1000.0, 1000.0)\n",
        "bounds after knockouts (0.0, 0.0)\n"
       ]
      }
     ],
     "prompt_number": 3
    },
    {
     "cell_type": "markdown",
     "metadata": {},
     "source": [
      "If you want to actually remove all traces of a gene from a model, this is more difficult because this will require changing all the gene_reaction_rule strings for reactions involving the gene."
     ]
    }
   ],
   "metadata": {}
  }
 ]
}